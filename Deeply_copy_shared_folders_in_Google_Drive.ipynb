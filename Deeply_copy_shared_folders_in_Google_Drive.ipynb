{
  "nbformat": 4,
  "nbformat_minor": 0,
  "metadata": {
    "colab": {
      "name": "Deeply copy shared folders in Google Drive",
      "provenance": [],
      "collapsed_sections": [],
      "include_colab_link": true
    },
    "kernelspec": {
      "name": "python3",
      "display_name": "Python 3"
    },
    "language_info": {
      "name": "python"
    }
  },
  "cells": [
    {
      "cell_type": "markdown",
      "metadata": {
        "id": "view-in-github",
        "colab_type": "text"
      },
      "source": [
        "<a href=\"https://colab.research.google.com/github/cookieDroid/notescripts/blob/main/Deeply_copy_shared_folders_in_Google_Drive.ipynb\" target=\"_parent\"><img src=\"https://colab.research.google.com/assets/colab-badge.svg\" alt=\"Open In Colab\"/></a>"
      ]
    },
    {
      "cell_type": "markdown",
      "metadata": {
        "id": "Gs5yQItABB4Q"
      },
      "source": [
        "Gdrive by default wont allow users to copy content from shared folders to other folder. This colab exercise is mount the gdrive as a virtualdrive and copy content using simple linnux commands."
      ]
    },
    {
      "cell_type": "markdown",
      "metadata": {
        "id": "qQ2BEyPJB2hI"
      },
      "source": [
        "To mount the gdrive as a virtual drive, user needs to sigin into his/her accounnt and paste the verification code."
      ]
    },
    {
      "cell_type": "code",
      "metadata": {
        "id": "7vfY17MS4nsX"
      },
      "source": [
        "from google.colab import drive\n",
        "drive.mount('/gdrive')"
      ],
      "execution_count": null,
      "outputs": []
    },
    {
      "cell_type": "markdown",
      "metadata": {
        "id": "AjpvShNWCGU8"
      },
      "source": [
        "Goto the folder you want to copy and right click on it. From the list of options, select \"create shortcut\" and point it to the directory you want to save the files in the folder."
      ]
    },
    {
      "cell_type": "markdown",
      "metadata": {
        "id": "zZEx3LYRCluC"
      },
      "source": [
        "Using the below command change the working directory"
      ]
    },
    {
      "cell_type": "code",
      "metadata": {
        "id": "pCMKxYNK9jTZ"
      },
      "source": [
        "cd /gdrive/MyDrive/storingDirectory"
      ],
      "execution_count": null,
      "outputs": []
    },
    {
      "cell_type": "markdown",
      "metadata": {
        "id": "KUm4YN0SCtRJ"
      },
      "source": [
        "print the working directory command by typing the following command. The shortcut file will be shown in  '/gdrive/.shortcut-targets-by-id/<unique-id>/sharedfoldername' copy it."
      ]
    },
    {
      "cell_type": "code",
      "metadata": {
        "id": "hjxO7eVz-BYR"
      },
      "source": [
        "ls -al"
      ],
      "execution_count": null,
      "outputs": []
    },
    {
      "cell_type": "markdown",
      "metadata": {
        "id": "TlnYJpeUDBNx"
      },
      "source": [
        "run the below command and replace the diirectory link on left with the one you copied above and replace the right side with working direcory."
      ]
    },
    {
      "cell_type": "code",
      "metadata": {
        "id": "RY8ByPie_CP5"
      },
      "source": [
        "!cp -r '/gdrive/.shortcut-targets-by-id/xyz/sharedfoldername/.' '/gdrive/MyDrive/storingDirectory'"
      ],
      "execution_count": null,
      "outputs": []
    },
    {
      "cell_type": "markdown",
      "metadata": {
        "id": "4ZFMNU1oDZVf"
      },
      "source": [
        "Check your gdrive on sucessful completion.\n"
      ]
    },
    {
      "cell_type": "code",
      "metadata": {
        "id": "dEovX3X5Dg67"
      },
      "source": [
        "created using the instructions obtained from https://webapps.stackexchange.com/questions/120362/how-to-copy-a-shared-folder-into-my-own-google-drive/"
      ],
      "execution_count": null,
      "outputs": []
    },
    {
      "cell_type": "markdown",
      "metadata": {
        "id": "eK61iNlNDgEU"
      },
      "source": [
        ""
      ]
    }
  ]
}